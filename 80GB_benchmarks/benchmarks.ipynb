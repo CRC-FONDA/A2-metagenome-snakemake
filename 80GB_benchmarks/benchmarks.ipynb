{
 "cells": [
  {
   "cell_type": "code",
   "execution_count": 21,
   "metadata": {},
   "outputs": [
    {
     "data": {
      "text/plain": [
       "''"
      ]
     },
     "execution_count": 21,
     "metadata": {},
     "output_type": "execute_result"
    }
   ],
   "source": [
    "# run only once to gather the benchmarking files\n",
    "import subprocess\n",
    "process = subprocess.run(['./make_MG3.sh'], check=True, stdout=subprocess.PIPE, universal_newlines=True)\n",
    "output = process.stdout\n",
    "output"
   ]
  },
  {
   "cell_type": "markdown",
   "metadata": {},
   "source": [
    "## MG-3 on Redwood\n",
    "\n",
    "### Building FM-indices "
   ]
  },
  {
   "cell_type": "code",
   "execution_count": 23,
   "metadata": {},
   "outputs": [],
   "source": [
    "import pandas as pd\n",
    "\n",
    "df = pd.read_csv(\"redwood/MG3/all_fm.txt\", sep=\"\\t\")"
   ]
  },
  {
   "cell_type": "markdown",
   "metadata": {},
   "source": [
    "Can't use the total time of all jobs naively because multiple (24/4 = 6) jobs were running in parallel at all times. For 256 jobs the actual run time is comparable to the runtime of 256/6=43 jobs run individually."
   ]
  },
  {
   "cell_type": "code",
   "execution_count": 24,
   "metadata": {},
   "outputs": [
    {
     "name": "stdout",
     "output_type": "stream",
     "text": [
      "1826.695490234376\n"
     ]
    }
   ],
   "source": [
    "total_time = 0\n",
    "for index, row in df.iterrows():\n",
    "    total_time += row['s']\n",
    "    \n",
    "\n",
    "average_time_for_one_job = total_time / len(df.index)\n",
    "\n",
    "print(average_time_for_one_job)"
   ]
  },
  {
   "cell_type": "code",
   "execution_count": 25,
   "metadata": {},
   "outputs": [
    {
     "name": "stdout",
     "output_type": "stream",
     "text": [
      "78547.90608007816\n"
     ]
    }
   ],
   "source": [
    "actual_time = average_time_for_one_job * 43\n",
    "print(actual_time)"
   ]
  },
  {
   "cell_type": "markdown",
   "metadata": {},
   "source": [
    "### Read mapping\n",
    "\n",
    "Again 4 threads per job were used so that 6 jobs were running parallel at all times. "
   ]
  },
  {
   "cell_type": "code",
   "execution_count": 27,
   "metadata": {},
   "outputs": [],
   "source": [
    "df = pd.read_csv(\"redwood/MG3/all_mapped.txt\", sep=\"\\t\")"
   ]
  },
  {
   "cell_type": "markdown",
   "metadata": {},
   "source": [
    "Can't use the total time of all jobs naively because multiple (24/4 = 6) jobs were running in parallel at all times. For 256 jobs the actual run time is comparable to the runtime of 256/6=43 jobs run individually."
   ]
  },
  {
   "cell_type": "code",
   "execution_count": 28,
   "metadata": {},
   "outputs": [
    {
     "name": "stdout",
     "output_type": "stream",
     "text": [
      "30.03329082031248\n"
     ]
    }
   ],
   "source": [
    "total_time = 0\n",
    "for index, row in df.iterrows():\n",
    "    total_time += row['s']\n",
    "    \n",
    "\n",
    "average_time_for_one_job = total_time / len(df.index)\n",
    "\n",
    "print(average_time_for_one_job)"
   ]
  },
  {
   "cell_type": "code",
   "execution_count": 29,
   "metadata": {},
   "outputs": [
    {
     "name": "stdout",
     "output_type": "stream",
     "text": [
      "1291.4315052734366\n"
     ]
    }
   ],
   "source": [
    "actual_time = average_time_for_one_job * 43\n",
    "print(actual_time)"
   ]
  },
  {
   "cell_type": "markdown",
   "metadata": {},
   "source": [
    "## MG-3 on Allegro\n",
    "\n",
    "### Building FM-indices "
   ]
  },
  {
   "cell_type": "code",
   "execution_count": 40,
   "metadata": {},
   "outputs": [],
   "source": [
    "df = pd.read_csv(\"allegro/MG3/all_fm.txt\", sep=\"\\t\")"
   ]
  },
  {
   "cell_type": "code",
   "execution_count": 41,
   "metadata": {},
   "outputs": [
    {
     "name": "stdout",
     "output_type": "stream",
     "text": [
      "301.0791978515625\n"
     ]
    }
   ],
   "source": [
    "total_time = 0\n",
    "for index, row in df.iterrows():\n",
    "    total_time += row['s']\n",
    "    \n",
    "\n",
    "average_time_for_one_job = total_time / len(df.index)\n",
    "\n",
    "print(average_time_for_one_job)"
   ]
  },
  {
   "cell_type": "code",
   "execution_count": 42,
   "metadata": {},
   "outputs": [
    {
     "name": "stdout",
     "output_type": "stream",
     "text": [
      "12946.405507617188\n"
     ]
    }
   ],
   "source": [
    "actual_time = average_time_for_one_job * 43\n",
    "print(actual_time)"
   ]
  },
  {
   "cell_type": "markdown",
   "metadata": {},
   "source": [
    "### Read mapping\n",
    "\n",
    "Again 4 threads per job were used so that 6 jobs were running parallel at all times. "
   ]
  },
  {
   "cell_type": "code",
   "execution_count": 43,
   "metadata": {},
   "outputs": [],
   "source": [
    "df = pd.read_csv(\"allegro/MG3/all_mapped.txt\", sep=\"\\t\")"
   ]
  },
  {
   "cell_type": "code",
   "execution_count": 44,
   "metadata": {},
   "outputs": [
    {
     "name": "stdout",
     "output_type": "stream",
     "text": [
      "153.60456210937505\n"
     ]
    }
   ],
   "source": [
    "total_time = 0\n",
    "for index, row in df.iterrows():\n",
    "    total_time += row['s']\n",
    "    \n",
    "\n",
    "average_time_for_one_job = total_time / len(df.index)\n",
    "\n",
    "print(average_time_for_one_job)"
   ]
  },
  {
   "cell_type": "code",
   "execution_count": 45,
   "metadata": {},
   "outputs": [
    {
     "name": "stdout",
     "output_type": "stream",
     "text": [
      "6604.996170703127\n"
     ]
    }
   ],
   "source": [
    "actual_time = average_time_for_one_job * 43\n",
    "print(actual_time)"
   ]
  }
 ],
 "metadata": {
  "kernelspec": {
   "display_name": "Python 3",
   "language": "python",
   "name": "python3"
  },
  "language_info": {
   "codemirror_mode": {
    "name": "ipython",
    "version": 3
   },
   "file_extension": ".py",
   "mimetype": "text/x-python",
   "name": "python",
   "nbconvert_exporter": "python",
   "pygments_lexer": "ipython3",
   "version": "3.7.6"
  }
 },
 "nbformat": 4,
 "nbformat_minor": 4
}
